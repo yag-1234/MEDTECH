{
 "cells": [
  {
   "cell_type": "code",
   "execution_count": 30,
   "metadata": {
    "ExecuteTime": {
     "end_time": "2022-04-24T05:16:33.470313Z",
     "start_time": "2022-04-24T05:16:26.844719Z"
    }
   },
   "outputs": [],
   "source": [
    "#Importing the Keras libraries and packages\n",
    "import os\n",
    "import pandas as pd\n",
    "import pickle\n",
    "import numpy as np\n",
    "import tensorflow as tf\n",
    "from tensorflow.keras.models import load_model\n",
    "from tensorflow.keras.preprocessing.image import ImageDataGenerator\n",
    "from tensorflow.keras.models import Model"
   ]
  },
  {
   "cell_type": "code",
   "execution_count": 31,
   "metadata": {
    "ExecuteTime": {
     "end_time": "2022-04-24T05:16:33.929334Z",
     "start_time": "2022-04-24T05:16:33.474042Z"
    }
   },
   "outputs": [
    {
     "name": "stdout",
     "output_type": "stream",
     "text": [
      "Model: \"sequential_3\"\n",
      "_________________________________________________________________\n",
      " Layer (type)                Output Shape              Param #   \n",
      "=================================================================\n",
      " conv2d_6 (Conv2D)           (None, 64, 64, 32)        896       \n",
      "                                                                 \n",
      " max_pooling2d_6 (MaxPooling  (None, 32, 32, 32)       0         \n",
      " 2D)                                                             \n",
      "                                                                 \n",
      " conv2d_7 (Conv2D)           (None, 32, 32, 64)        18496     \n",
      "                                                                 \n",
      " max_pooling2d_7 (MaxPooling  (None, 16, 16, 64)       0         \n",
      " 2D)                                                             \n",
      "                                                                 \n",
      " flatten_3 (Flatten)         (None, 16384)             0         \n",
      "                                                                 \n",
      " dense_6 (Dense)             (None, 128)               2097280   \n",
      "                                                                 \n",
      " dense_7 (Dense)             (None, 1)                 129       \n",
      "                                                                 \n",
      "=================================================================\n",
      "Total params: 2,116,801\n",
      "Trainable params: 2,116,801\n",
      "Non-trainable params: 0\n",
      "_________________________________________________________________\n"
     ]
    }
   ],
   "source": [
    "# Initialising the CNN\n",
    "classifier = tf.keras.models.Sequential()\n",
    "\n",
    "classifier.add(tf.keras.layers.Convolution2D(filters=32,\n",
    "                                  kernel_size=3,\n",
    "                                  padding=\"same\",\n",
    "                                  input_shape=(64, 64, 3),\n",
    "                                  activation='relu'))\n",
    "\n",
    "classifier.add(tf.keras.layers.MaxPooling2D(pool_size=2, strides=2, padding='valid'))\n",
    "\n",
    "classifier.add(tf.keras.layers.Convolution2D(filters=64,\n",
    "                                  kernel_size=3,\n",
    "                                  padding=\"same\",\n",
    "                                  activation=\"relu\"))\n",
    "\n",
    "classifier.add(tf.keras.layers.MaxPooling2D(pool_size=2, strides=2, padding='valid'))\n",
    "\n",
    "# Part Of Neural Network\n",
    "\n",
    "classifier.add(tf.keras.layers.Flatten())\n",
    "\n",
    "classifier.add(tf.keras.layers.Dense(units=128, activation='relu'))\n",
    "\n",
    "classifier.add(tf.keras.layers.Dense(units=1, activation='sigmoid'))\n",
    "\n",
    "classifier.compile(optimizer='adam',\n",
    "                   loss='binary_crossentropy',\n",
    "                   metrics=['accuracy'])\n",
    "\n",
    "classifier.summary()"
   ]
  },
  {
   "cell_type": "code",
   "execution_count": 32,
   "metadata": {
    "ExecuteTime": {
     "end_time": "2022-04-24T05:16:34.032823Z",
     "start_time": "2022-04-24T05:16:33.930842Z"
    }
   },
   "outputs": [
    {
     "name": "stdout",
     "output_type": "stream",
     "text": [
      "Found 1225 images belonging to 2 classes.\n",
      "Found 434 images belonging to 2 classes.\n"
     ]
    }
   ],
   "source": [
    "# Part 2 - Fitting the CNN to the images\n",
    "\n",
    "from tensorflow.keras.preprocessing.image import ImageDataGenerator\n",
    "train_datagen = ImageDataGenerator(rescale=1. / 255,\n",
    "                                   shear_range=0.2,\n",
    "                                   zoom_range=0.2,\n",
    "                                   horizontal_flip=True)\n",
    "test_datagen = ImageDataGenerator(rescale=1. / 255)\n",
    "\n",
    "training_set = train_datagen.flow_from_directory(\n",
    "    r\"/home/aman/Documents/Datasets/HCI-DATASET/Data/train\",\n",
    "    target_size=(64, 64),\n",
    "    batch_size=32,\n",
    "    class_mode='binary')\n",
    "test_set = test_datagen.flow_from_directory(\n",
    "    r\"/home/aman/Documents/Datasets/HCI-DATASET/Data/test\",\n",
    "    target_size=(64, 64),\n",
    "    batch_size=32,\n",
    "    class_mode='binary')"
   ]
  },
  {
   "cell_type": "code",
   "execution_count": 33,
   "metadata": {
    "ExecuteTime": {
     "end_time": "2022-04-24T05:17:35.879176Z",
     "start_time": "2022-04-24T05:16:34.035377Z"
    }
   },
   "outputs": [
    {
     "name": "stdout",
     "output_type": "stream",
     "text": [
      "Epoch 1/10\n",
      "10/10 [==============================] - 2s 181ms/step - loss: 0.8314 - accuracy: 0.5469 - val_loss: 0.7480 - val_accuracy: 0.3438\n",
      "Epoch 2/10\n",
      "10/10 [==============================] - 2s 168ms/step - loss: 0.5584 - accuracy: 0.7875 - val_loss: 0.6115 - val_accuracy: 0.6797\n",
      "Epoch 3/10\n",
      "10/10 [==============================] - 2s 162ms/step - loss: 0.4584 - accuracy: 0.7875 - val_loss: 0.7091 - val_accuracy: 0.5625\n",
      "Epoch 4/10\n",
      "10/10 [==============================] - 2s 158ms/step - loss: 0.3885 - accuracy: 0.8156 - val_loss: 0.8910 - val_accuracy: 0.5469\n",
      "Epoch 5/10\n",
      "10/10 [==============================] - 2s 159ms/step - loss: 0.2952 - accuracy: 0.8844 - val_loss: 1.1307 - val_accuracy: 0.5156\n",
      "Epoch 6/10\n",
      "10/10 [==============================] - 2s 165ms/step - loss: 0.2591 - accuracy: 0.9000 - val_loss: 1.2527 - val_accuracy: 0.4531\n",
      "Epoch 7/10\n",
      "10/10 [==============================] - 2s 157ms/step - loss: 0.2207 - accuracy: 0.9344 - val_loss: 1.5010 - val_accuracy: 0.4062\n",
      "Epoch 8/10\n",
      "10/10 [==============================] - 2s 155ms/step - loss: 0.2030 - accuracy: 0.9394 - val_loss: 1.2639 - val_accuracy: 0.5625\n",
      "Epoch 9/10\n",
      "10/10 [==============================] - 2s 172ms/step - loss: 0.2161 - accuracy: 0.9259 - val_loss: 1.6971 - val_accuracy: 0.4375\n",
      "Epoch 10/10\n",
      "10/10 [==============================] - 2s 159ms/step - loss: 0.2473 - accuracy: 0.9125 - val_loss: 1.0958 - val_accuracy: 0.4609\n"
     ]
    }
   ],
   "source": [
    "#training \n",
    "history = classifier.fit(training_set,\n",
    "                         steps_per_epoch=10,\n",
    "                         epochs=10,\n",
    "                         validation_data=test_set,\n",
    "                         validation_steps=4)"
   ]
  },
  {
   "cell_type": "code",
   "execution_count": 34,
   "metadata": {
    "ExecuteTime": {
     "end_time": "2022-04-24T05:17:35.977510Z",
     "start_time": "2022-04-24T05:17:35.880589Z"
    }
   },
   "outputs": [],
   "source": [
    "classifier.save(r'/home/aman/Documents/HCI-JCOMP/demo/PROJECT/model.h5')"
   ]
  },
  {
   "cell_type": "code",
   "execution_count": 35,
   "metadata": {
    "ExecuteTime": {
     "end_time": "2022-04-24T05:55:34.216126Z",
     "start_time": "2022-04-24T05:55:33.929378Z"
    }
   },
   "outputs": [
    {
     "name": "stdout",
     "output_type": "stream",
     "text": [
      "1/1 [==============================] - 0s 63ms/step\n",
      "No - Covid\n"
     ]
    },
    {
     "data": {
      "image/png": "[encoded data removed]",
      "text/plain": [
       "<Figure size 640x480 with 1 Axes>"
      ]
     },
     "metadata": {},
     "output_type": "display_data"
    }
   ],
   "source": [
    "# for only one prediction\n",
    "import numpy as np\n",
    "\n",
    "from tensorflow.keras.preprocessing import image\n",
    "\n",
    "import matplotlib.pyplot as plt\n",
    "\n",
    "test_image = image.load_img(\n",
    "    r\"/home/aman/Documents/Datasets/covid/COVID-19_Radiography_Dataset/Normal/images/Normal-1.png\",\n",
    "    target_size=(64, 64))\n",
    "\n",
    "plt.imshow(test_image)\n",
    "\n",
    "test_image = image.img_to_array(test_image)\n",
    "\n",
    "test_image = np.expand_dims(test_image, axis=0)\n",
    "\n",
    "result = classifier.predict(test_image)\n",
    "\n",
    "training_set.class_indices\n",
    "\n",
    "if result[0][0] == 1:\n",
    "    prediction = 'No - Covid'\n",
    "else:\n",
    "    prediction = 'Covid'\n",
    "print(prediction)"
   ]
  }
 ],
 "metadata": {
  "kernelspec": {
   "display_name": ".venv",
   "language": "python",
   "name": "python3"
  },
  "language_info": {
   "codemirror_mode": {
    "name": "ipython",
    "version": 3
   },
   "file_extension": ".py",
   "mimetype": "text/x-python",
   "name": "python",
   "nbconvert_exporter": "python",
   "pygments_lexer": "ipython3",
   "version": "3.10.7 (main, Nov  2 2022, 18:49:29) [GCC 12.2.0]"
  },
  "vscode": {
   "interpreter": {
    "hash": "23c64dabe5ccf0fe9a15ac20477d747030ddbc604bc67fad32afc625db11893f"
   }
  }
 },
 "nbformat": 4,
 "nbformat_minor": 4
}
